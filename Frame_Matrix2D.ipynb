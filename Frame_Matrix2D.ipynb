{
  "nbformat": 4,
  "nbformat_minor": 0,
  "metadata": {
    "colab": {
      "provenance": [],
      "authorship_tag": "ABX9TyNlUL7VLdEloM3kjX+6Xln+",
      "include_colab_link": true
    },
    "kernelspec": {
      "name": "python3",
      "display_name": "Python 3"
    },
    "language_info": {
      "name": "python"
    }
  },
  "cells": [
    {
      "cell_type": "markdown",
      "metadata": {
        "id": "view-in-github",
        "colab_type": "text"
      },
      "source": [
        "<a href=\"https://colab.research.google.com/github/GARYTJ29/matrixStructAnalysis/blob/main/Axial_include.ipynb\" target=\"_parent\"><img src=\"https://colab.research.google.com/assets/colab-badge.svg\" alt=\"Open In Colab\"/></a>"
      ]
    },
    {
      "cell_type": "code",
      "execution_count": null,
      "metadata": {
        "id": "5-XG3Dzmczj3"
      },
      "outputs": [],
      "source": [
        "import numpy as np\n",
        "try:\n",
        "  from pandas import DataFrame\n",
        "  f=0\n",
        "except:\n",
        "  f=1\n",
        "def stdmat(L,E=1,A=1,I=1):\n",
        "  ae= A*E/L\n",
        "  a=4*E*I/L\n",
        "  b=2*E*I/L\n",
        "  c=6*E*I/L/L\n",
        "  d=12*E*I/L/L/L\n",
        "\n",
        "  mat = [[a,b,c,-c,0,0],\n",
        "         [b,a,c,-c,0,0],\n",
        "         [c,c,d,-d,0,0],\n",
        "         [-c,-c,-d,d,0,0],\n",
        "         [0,0,0,0,ae,-ae],\n",
        "         [0,0,0,0,-ae,ae]]\n",
        "  return mat\n",
        "def tramat(c1,c2):\n",
        "  dy = c2[1]-c1[1]\n",
        "  dx = c2[0]-c1[0]\n",
        "  if dx != 0:\n",
        "    if dx>0:\n",
        "      t = np.arctan(dy/dx)\n",
        "    else:\n",
        "      t = np.pi + np.arctan(dy/dx)\n",
        "  else:\n",
        "    t = np.pi/2\n",
        "  c = round(np.cos(t),5)\n",
        "  s = round(np.sin(t),5)\n",
        "  mat = [[1,0,0,0,0,0],\n",
        "        [0,1,0,0,0,0],\n",
        "        [0,0,c,0,-s,0],\n",
        "        [0,0,0,c,0,-s],\n",
        "        [0,0,s,0,c,0],\n",
        "        [0,0,0,s,0,c]]\n",
        "  return mat"
      ]
    },
    {
      "cell_type": "code",
      "source": [
        "joints = [ [],\n",
        "    [0,0],[12,0],[0,6],[12,6],[0,12],[12,12]\n",
        "]\n",
        "E = 30\n",
        "Ac = 93000\n",
        "Ic = 720\n",
        "Ag = 140000\n",
        "Ig = 2430\n",
        "Members = [ [],\n",
        "    #columns\n",
        "    [1,3,{'E':E,'A':Ac,'I':Ic}],\n",
        "    [2,4,{'E':E,'A':Ac,'I':Ic}],\n",
        "    [3,5,{'E':E,'A':Ac,'I':Ic}],\n",
        "    [4,6,{'E':E,'A':Ac,'I':Ic}],\n",
        "    #girders\n",
        "    [3,4,{'E':E,'A':Ag,'I':Ig}],\n",
        "    [5,6,{'E':E,'A':Ag,'I':Ig}],\n",
        "    \n",
        "]\n",
        "JLoad = [0 , \n",
        "         #m\n",
        "         0, 0, 0, 0, 0, 0,\n",
        "         #y\n",
        "         0, 0, 0, 0, 0, 0,\n",
        "         #x\n",
        "         0, 0, 60, 0, 30, 0\n",
        "         ]"
      ],
      "metadata": {
        "id": "jbb9kyONlMPl"
      },
      "execution_count": null,
      "outputs": []
    },
    {
      "cell_type": "code",
      "source": [
        "tr = [[]]\n",
        "locmat = [[]]\n",
        "labelm = [{}]\n",
        "leng = [0]\n",
        "nj = len(joints)-1\n",
        "for i in range(1,len(Members)):\n",
        "  c1 = joints[Members[i][0]]\n",
        "  c2 = joints[Members[i][1]]\n",
        "  dy = c2[1]-c1[1]\n",
        "  dx = c2[0]-c1[0]\n",
        "  #transformation matrix\n",
        "  tr += [tramat(c1,c2)]\n",
        "  l = (dy*dy+dx*dx)**0.5\n",
        "  leng.append(l)\n",
        "  #local stiffness matrix\n",
        "  locmat += [stdmat(l,Members[i][2]['E'],Members[i][2]['A'],Members[i][2]['I'])]\n",
        "  #labelling Matrix\n",
        "  m1 = Members[i][0]\n",
        "  m2 = Members[i][1]\n",
        "  labelm += [{m1:0,m2:1,(m1+nj):2,(m2+nj):3,(m1+2*nj):4,(m2+2*nj):5}]"
      ],
      "metadata": {
        "id": "g-Zwm2eQEFFW"
      },
      "execution_count": null,
      "outputs": []
    },
    {
      "cell_type": "code",
      "source": [
        "glomat = [[]]\n",
        "for i in range(1,len(Members)):\n",
        "  ttr = np.transpose(tr[i])\n",
        "  mt = np.matmul(ttr,locmat[i])\n",
        "  mt2 = np.matmul(mt,tr[i])\n",
        "  glomat += [mt2]"
      ],
      "metadata": {
        "id": "0v905tABF8nl"
      },
      "execution_count": null,
      "outputs": []
    },
    {
      "cell_type": "code",
      "source": [
        "GLmat = np.zeros((3*nj,3*nj))\n",
        "for i in range(1,len(Members)):\n",
        "  for j in labelm[i]:\n",
        "    for k in labelm[i]:\n",
        "      GLmat[j-1][k-1] += glomat[i][labelm[i][j]][labelm[i][k]]"
      ],
      "metadata": {
        "id": "R_BpbEc7GvV6"
      },
      "execution_count": null,
      "outputs": []
    },
    {
      "cell_type": "code",
      "source": [
        "Restr = [1,2,7,8,13,14]"
      ],
      "metadata": {
        "id": "2ZFIT5JBHHKn"
      },
      "execution_count": null,
      "outputs": []
    },
    {
      "cell_type": "code",
      "source": [
        "Restr.sort()\n",
        "rst = list(map(lambda a: a-1 ,Restr))\n",
        "Nrestr = []\n",
        "for i in range(1,3*nj+1):\n",
        "  if i not in Restr:\n",
        "    Nrestr += [i]\n",
        "nrst = list(map(lambda a: a-1 ,Nrestr))"
      ],
      "metadata": {
        "id": "1nxrtuBqHSbQ"
      },
      "execution_count": null,
      "outputs": []
    },
    {
      "cell_type": "code",
      "source": [
        "def ptl(P,L,a=-1):\n",
        "  if a==-1:\n",
        "    a=L/2\n",
        "  b=L-a\n",
        "  return [-P*a*b*b/L/L,P*a*a*b/L/L,-P*(3*a+b)*b*b/L/L/L,-P*(3*b+a)*a*a/L/L/L,0,0]\n",
        "#ptl(40,5)\n",
        "def udl(W,L):\n",
        "  return [-W*L*L/12,W*L*L/12,-W*L/2,-W*L/2,0,0]\n",
        "def tri(Wm,L,E='L'):\n",
        "  \n",
        "    a = [-Wm*L*L/30,Wm*L*L/20,-3*Wm*L/20,-7*Wm*L/20,0,0]\n",
        "    if E=='R':\n",
        "      return [a[1],a[0],a[3],a[2]]\n",
        "    return a"
      ],
      "metadata": {
        "id": "Zth5ze4UHalh"
      },
      "execution_count": null,
      "outputs": []
    },
    {
      "cell_type": "code",
      "source": [
        "EleJ=[[],[0]*6,[0]*6,[0]*6,[0]*6,udl(12,leng[5]),udl(12,leng[6])]"
      ],
      "metadata": {
        "id": "TrW8LYW-HXB6"
      },
      "execution_count": null,
      "outputs": []
    },
    {
      "cell_type": "code",
      "source": [
        "EleJG = [[]]\n",
        "for i in range(1,len(Members)):\n",
        "  ttr = np.transpose(tr[i])\n",
        "  mt = np.dot(ttr,EleJ[i])\n",
        "  EleJG += [mt]"
      ],
      "metadata": {
        "id": "aoTkTQTzItNE"
      },
      "execution_count": null,
      "outputs": []
    },
    {
      "cell_type": "code",
      "source": [
        "# JLoad = [0 ,\n",
        "#          #m\n",
        "#          0, 0, 0, 0, 0, 0,\n",
        "#          #y\n",
        "#          0, 0, 0, 0, 0, 0,\n",
        "#          #x\n",
        "#          0, 0, 60, 0, 30, 0\n",
        "#          ]\n",
        "for i in range(1,len(Members)):\n",
        "  for j in labelm[i]:\n",
        "    JLoad[j]+=EleJG[i][labelm[i][j]]"
      ],
      "metadata": {
        "id": "3VWJWi22PfaP"
      },
      "execution_count": null,
      "outputs": []
    },
    {
      "cell_type": "code",
      "source": [
        "Ju = []\n",
        "for i in Nrestr:\n",
        "  Ju.append(JLoad[i])\n",
        "Jr = []\n",
        "for i in Restr:\n",
        "  Jr.append(JLoad[i])"
      ],
      "metadata": {
        "id": "crkvfLc_HU_f"
      },
      "execution_count": null,
      "outputs": []
    },
    {
      "cell_type": "code",
      "source": [
        "Kuu = np.array(GLmat)\n",
        "Kuu = np.delete(Kuu, rst,axis=1)\n",
        "Kuu = np.delete(Kuu, rst,axis=0)\n",
        "kuuinv = np.linalg.inv(Kuu)\n",
        "deluu = np.dot(kuuinv,Ju)"
      ],
      "metadata": {
        "id": "yZcJdu8RRyjG"
      },
      "execution_count": null,
      "outputs": []
    },
    {
      "cell_type": "code",
      "source": [
        "delmat = [0]*(3*nj+1)\n",
        "for i in range(len(Nrestr)):\n",
        "  delmat[Nrestr[i]]=deluu[i]"
      ],
      "metadata": {
        "id": "YnDvbYHGkiLy"
      },
      "execution_count": null,
      "outputs": []
    },
    {
      "cell_type": "code",
      "source": [
        "print(\"\\nLocal Stiffness Matrix (Global Coordintes):\")\n",
        "for i in range(1,len(Members)):\n",
        "  print(\"For Member\", i , \":\")\n",
        "  print(np.array(glomat[i]))"
      ],
      "metadata": {
        "colab": {
          "base_uri": "https://localhost:8080/"
        },
        "id": "LX7DsDl4lAam",
        "outputId": "aa7400c4-8f64-47cd-a06d-cc8538244f54"
      },
      "execution_count": null,
      "outputs": [
        {
          "output_type": "stream",
          "name": "stdout",
          "text": [
            "\n",
            "Local Stiffness Matrix (Global Coordintes):\n",
            "For Member 1 :\n",
            "[[  14400.    7200.       0.       0.   -3600.    3600.]\n",
            " [   7200.   14400.       0.       0.   -3600.    3600.]\n",
            " [      0.       0.  465000. -465000.       0.       0.]\n",
            " [      0.       0. -465000.  465000.       0.       0.]\n",
            " [  -3600.   -3600.       0.       0.    1200.   -1200.]\n",
            " [   3600.    3600.       0.       0.   -1200.    1200.]]\n",
            "For Member 2 :\n",
            "[[  14400.    7200.       0.       0.   -3600.    3600.]\n",
            " [   7200.   14400.       0.       0.   -3600.    3600.]\n",
            " [      0.       0.  465000. -465000.       0.       0.]\n",
            " [      0.       0. -465000.  465000.       0.       0.]\n",
            " [  -3600.   -3600.       0.       0.    1200.   -1200.]\n",
            " [   3600.    3600.       0.       0.   -1200.    1200.]]\n",
            "For Member 3 :\n",
            "[[  14400.    7200.       0.       0.   -3600.    3600.]\n",
            " [   7200.   14400.       0.       0.   -3600.    3600.]\n",
            " [      0.       0.  465000. -465000.       0.       0.]\n",
            " [      0.       0. -465000.  465000.       0.       0.]\n",
            " [  -3600.   -3600.       0.       0.    1200.   -1200.]\n",
            " [   3600.    3600.       0.       0.   -1200.    1200.]]\n",
            "For Member 4 :\n",
            "[[  14400.    7200.       0.       0.   -3600.    3600.]\n",
            " [   7200.   14400.       0.       0.   -3600.    3600.]\n",
            " [      0.       0.  465000. -465000.       0.       0.]\n",
            " [      0.       0. -465000.  465000.       0.       0.]\n",
            " [  -3600.   -3600.       0.       0.    1200.   -1200.]\n",
            " [   3600.    3600.       0.       0.   -1200.    1200.]]\n",
            "For Member 5 :\n",
            "[[  24300.     12150.      3037.5    -3037.5        0.         0.  ]\n",
            " [  12150.     24300.      3037.5    -3037.5        0.         0.  ]\n",
            " [   3037.5     3037.5      506.25    -506.25       0.         0.  ]\n",
            " [  -3037.5    -3037.5     -506.25     506.25       0.         0.  ]\n",
            " [      0.         0.         0.         0.    350000.   -350000.  ]\n",
            " [      0.         0.         0.         0.   -350000.    350000.  ]]\n",
            "For Member 6 :\n",
            "[[  24300.     12150.      3037.5    -3037.5        0.         0.  ]\n",
            " [  12150.     24300.      3037.5    -3037.5        0.         0.  ]\n",
            " [   3037.5     3037.5      506.25    -506.25       0.         0.  ]\n",
            " [  -3037.5    -3037.5     -506.25     506.25       0.         0.  ]\n",
            " [      0.         0.         0.         0.    350000.   -350000.  ]\n",
            " [      0.         0.         0.         0.   -350000.    350000.  ]]\n"
          ]
        }
      ]
    },
    {
      "cell_type": "code",
      "source": [
        "print(\"\\nComplete structure stiffness matrix:\")\n",
        "#import sys\n",
        "if f:\n",
        "  print(np.array(GLmat))\n",
        "else:\n",
        "  print(DataFrame(GLmat).to_string(index=False,header=False))"
      ],
      "metadata": {
        "colab": {
          "base_uri": "https://localhost:8080/"
        },
        "id": "GnZHJiHUlXi8",
        "outputId": "ae73c4db-4bff-43d2-f4ed-5744b64bda38"
      },
      "execution_count": null,
      "outputs": [
        {
          "output_type": "stream",
          "name": "stdout",
          "text": [
            "\n",
            "Complete structure stiffness matrix:\n",
            "14400.0     0.0  7200.0     0.0     0.0     0.0       0.0       0.0       0.00       0.00       0.00       0.00 -3600.0     0.0    3600.0       0.0       0.0       0.0\n",
            "    0.0 14400.0     0.0  7200.0     0.0     0.0       0.0       0.0       0.00       0.00       0.00       0.00     0.0 -3600.0       0.0    3600.0       0.0       0.0\n",
            " 7200.0     0.0 53100.0 12150.0  7200.0     0.0       0.0       0.0    3037.50   -3037.50       0.00       0.00 -3600.0     0.0       0.0       0.0    3600.0       0.0\n",
            "    0.0  7200.0 12150.0 53100.0     0.0  7200.0       0.0       0.0    3037.50   -3037.50       0.00       0.00     0.0 -3600.0       0.0       0.0       0.0    3600.0\n",
            "    0.0     0.0  7200.0     0.0 38700.0 12150.0       0.0       0.0       0.00       0.00    3037.50   -3037.50     0.0     0.0   -3600.0       0.0    3600.0       0.0\n",
            "    0.0     0.0     0.0  7200.0 12150.0 38700.0       0.0       0.0       0.00       0.00    3037.50   -3037.50     0.0     0.0       0.0   -3600.0       0.0    3600.0\n",
            "    0.0     0.0     0.0     0.0     0.0     0.0  465000.0       0.0 -465000.00       0.00       0.00       0.00     0.0     0.0       0.0       0.0       0.0       0.0\n",
            "    0.0     0.0     0.0     0.0     0.0     0.0       0.0  465000.0       0.00 -465000.00       0.00       0.00     0.0     0.0       0.0       0.0       0.0       0.0\n",
            "    0.0     0.0  3037.5  3037.5     0.0     0.0 -465000.0       0.0  930506.25    -506.25 -465000.00       0.00     0.0     0.0       0.0       0.0       0.0       0.0\n",
            "    0.0     0.0 -3037.5 -3037.5     0.0     0.0       0.0 -465000.0    -506.25  930506.25       0.00 -465000.00     0.0     0.0       0.0       0.0       0.0       0.0\n",
            "    0.0     0.0     0.0     0.0  3037.5  3037.5       0.0       0.0 -465000.00       0.00  465506.25    -506.25     0.0     0.0       0.0       0.0       0.0       0.0\n",
            "    0.0     0.0     0.0     0.0 -3037.5 -3037.5       0.0       0.0       0.00 -465000.00    -506.25  465506.25     0.0     0.0       0.0       0.0       0.0       0.0\n",
            "-3600.0     0.0 -3600.0     0.0     0.0     0.0       0.0       0.0       0.00       0.00       0.00       0.00  1200.0     0.0   -1200.0       0.0       0.0       0.0\n",
            "    0.0 -3600.0     0.0 -3600.0     0.0     0.0       0.0       0.0       0.00       0.00       0.00       0.00     0.0  1200.0       0.0   -1200.0       0.0       0.0\n",
            " 3600.0     0.0     0.0     0.0 -3600.0     0.0       0.0       0.0       0.00       0.00       0.00       0.00 -1200.0     0.0  352400.0 -350000.0   -1200.0       0.0\n",
            "    0.0  3600.0     0.0     0.0     0.0 -3600.0       0.0       0.0       0.00       0.00       0.00       0.00     0.0 -1200.0 -350000.0  352400.0       0.0   -1200.0\n",
            "    0.0     0.0  3600.0     0.0  3600.0     0.0       0.0       0.0       0.00       0.00       0.00       0.00     0.0     0.0   -1200.0       0.0  351200.0 -350000.0\n",
            "    0.0     0.0     0.0  3600.0     0.0  3600.0       0.0       0.0       0.00       0.00       0.00       0.00     0.0     0.0       0.0   -1200.0 -350000.0  351200.0\n"
          ]
        }
      ]
    },
    {
      "cell_type": "code",
      "source": [
        "print(\"\\nUnrestrained stiffness sub-matrix:\")\n",
        "if f:\n",
        "  print(np.array(Kuu))\n",
        "else:\n",
        "  print(DataFrame(Kuu).to_string(index=False,header=False))"
      ],
      "metadata": {
        "colab": {
          "base_uri": "https://localhost:8080/"
        },
        "id": "nM0qKDvtlgl7",
        "outputId": "ce735b47-58e8-4c2b-bb3f-f2725ef162f4"
      },
      "execution_count": null,
      "outputs": [
        {
          "output_type": "stream",
          "name": "stdout",
          "text": [
            "\n",
            "Unrestrained stiffness sub-matrix:\n",
            "53100.0 12150.0  7200.0     0.0    3037.50   -3037.50       0.00       0.00       0.0       0.0    3600.0       0.0\n",
            "12150.0 53100.0     0.0  7200.0    3037.50   -3037.50       0.00       0.00       0.0       0.0       0.0    3600.0\n",
            " 7200.0     0.0 38700.0 12150.0       0.00       0.00    3037.50   -3037.50   -3600.0       0.0    3600.0       0.0\n",
            "    0.0  7200.0 12150.0 38700.0       0.00       0.00    3037.50   -3037.50       0.0   -3600.0       0.0    3600.0\n",
            " 3037.5  3037.5     0.0     0.0  930506.25    -506.25 -465000.00       0.00       0.0       0.0       0.0       0.0\n",
            "-3037.5 -3037.5     0.0     0.0    -506.25  930506.25       0.00 -465000.00       0.0       0.0       0.0       0.0\n",
            "    0.0     0.0  3037.5  3037.5 -465000.00       0.00  465506.25    -506.25       0.0       0.0       0.0       0.0\n",
            "    0.0     0.0 -3037.5 -3037.5       0.00 -465000.00    -506.25  465506.25       0.0       0.0       0.0       0.0\n",
            "    0.0     0.0 -3600.0     0.0       0.00       0.00       0.00       0.00  352400.0 -350000.0   -1200.0       0.0\n",
            "    0.0     0.0     0.0 -3600.0       0.00       0.00       0.00       0.00 -350000.0  352400.0       0.0   -1200.0\n",
            " 3600.0     0.0  3600.0     0.0       0.00       0.00       0.00       0.00   -1200.0       0.0  351200.0 -350000.0\n",
            "    0.0  3600.0     0.0  3600.0       0.00       0.00       0.00       0.00       0.0   -1200.0 -350000.0  351200.0\n"
          ]
        }
      ]
    },
    {
      "cell_type": "code",
      "source": [
        "print(\"\\nInverse of unrestrained stiffness sub-matrix:\")\n",
        "if f:\n",
        "  print(np.array(kuuinv))\n",
        "else:\n",
        "  print(DataFrame(kuuinv).to_string(index=False,header=False))"
      ],
      "metadata": {
        "colab": {
          "base_uri": "https://localhost:8080/"
        },
        "id": "bjMrE_DKl3b2",
        "outputId": "d5a3f92a-b571-440a-b83c-3149f79380e8"
      },
      "execution_count": null,
      "outputs": [
        {
          "output_type": "stream",
          "name": "stdout",
          "text": [
            "\n",
            "Inverse of unrestrained stiffness sub-matrix:\n",
            " 2.439061e-05 -1.259445e-06 -2.407307e-06  4.540463e-06 -1.642881e-07  1.642881e-07 -1.778352e-07  1.778352e-07 -3.471464e-05 -3.467886e-05 -0.000073 -0.000073\n",
            "-1.259445e-06  2.439061e-05  4.540463e-06 -2.407307e-06 -1.642881e-07  1.642881e-07 -1.778352e-07  1.778352e-07 -3.467886e-05 -3.471464e-05 -0.000073 -0.000073\n",
            "-2.407307e-06  4.540463e-06  3.243171e-05 -7.167382e-06 -1.778352e-07  1.778352e-07 -3.421234e-07  3.421234e-07 -3.098399e-06 -3.301070e-06 -0.000044 -0.000044\n",
            " 4.540463e-06 -2.407307e-06 -7.167382e-06  3.243171e-05 -1.778352e-07  1.778352e-07 -3.421234e-07  3.421234e-07 -3.301070e-06 -3.098399e-06 -0.000044 -0.000044\n",
            "-1.642881e-07 -1.642881e-07 -1.778352e-07 -1.778352e-07  2.150326e-06  2.119847e-10  2.150308e-06  2.294648e-10  4.928644e-07  4.928644e-07  0.000002  0.000002\n",
            " 1.642881e-07  1.642881e-07  1.778352e-07  1.778352e-07  2.119847e-10  2.150326e-06  2.294648e-10  2.150308e-06 -4.928644e-07 -4.928644e-07 -0.000002 -0.000002\n",
            "-1.778352e-07 -1.778352e-07 -3.421234e-07 -3.421234e-07  2.150308e-06  2.294648e-10  4.300634e-06  4.414495e-10  5.335057e-07  5.335057e-07  0.000002  0.000002\n",
            " 1.778352e-07  1.778352e-07  3.421234e-07  3.421234e-07  2.294648e-10  2.150308e-06  4.414495e-10  4.300634e-06 -5.335057e-07 -5.335057e-07 -0.000002 -0.000002\n",
            "-3.471464e-05 -3.467886e-05 -3.098399e-06 -3.301070e-06  4.928644e-07 -4.928644e-07  5.335057e-07 -5.335057e-07  5.214693e-04  5.200446e-04  0.000634  0.000634\n",
            "-3.467886e-05 -3.471464e-05 -3.301070e-06 -3.098399e-06  4.928644e-07 -4.928644e-07  5.335057e-07 -5.335057e-07  5.200446e-04  5.214693e-04  0.000634  0.000634\n",
            "-7.264128e-05 -7.254520e-05 -4.437960e-05 -4.421231e-05  1.519235e-06 -1.519235e-06  2.093382e-06 -2.093382e-06  6.344472e-04  6.344456e-04  0.001402  0.001401\n",
            "-7.254520e-05 -7.264128e-05 -4.421231e-05 -4.437960e-05  1.519235e-06 -1.519235e-06  2.093382e-06 -2.093382e-06  6.344456e-04  6.344472e-04  0.001401  0.001402\n"
          ]
        }
      ]
    },
    {
      "cell_type": "code",
      "source": [
        "print(\"\\nJoint Load Vector is:\")\n",
        "#for x in JLoad:\n",
        "#  print(x)\n",
        "print(np.array(JLoad[1::]).reshape(len(JLoad)-1,1))"
      ],
      "metadata": {
        "colab": {
          "base_uri": "https://localhost:8080/"
        },
        "id": "VuPqJrGpl7Hf",
        "outputId": "2ed54b40-fd88-4935-9cfa-4ff1811dd8ee"
      },
      "execution_count": null,
      "outputs": [
        {
          "output_type": "stream",
          "name": "stdout",
          "text": [
            "\n",
            "Joint Load Vector is:\n",
            "[[   0.]\n",
            " [   0.]\n",
            " [-144.]\n",
            " [ 144.]\n",
            " [-144.]\n",
            " [ 144.]\n",
            " [   0.]\n",
            " [   0.]\n",
            " [ -72.]\n",
            " [ -72.]\n",
            " [ -72.]\n",
            " [ -72.]\n",
            " [   0.]\n",
            " [   0.]\n",
            " [  60.]\n",
            " [   0.]\n",
            " [  30.]\n",
            " [   0.]]\n"
          ]
        }
      ]
    },
    {
      "cell_type": "code",
      "source": [
        "print(\"\\nUnrestrained displacements are:\")\n",
        "for i in range(3,nj+1):\n",
        "  print(f\"Joint {i} : θ = {delmat[i]} rad  | δy = {delmat[i+nj]} m  | δx =  {delmat[i+2*nj]} m\")"
      ],
      "metadata": {
        "colab": {
          "base_uri": "https://localhost:8080/"
        },
        "id": "J--BgVGymCCC",
        "outputId": "c032fac6-c2d9-434a-8d18-241e28c40017"
      },
      "execution_count": null,
      "outputs": [
        {
          "output_type": "stream",
          "name": "stdout",
          "text": [
            "\n",
            "Unrestrained displacements are:\n",
            "Joint 3 : θ = -0.006955245834687568 rad  | δy = -0.0002345285189414512 m  | δx =  0.05029753898926292 m\n",
            "Joint 4 : θ = -0.0015639585245556973 rad  | δy = -0.0003848263197682264 m  | δx =  0.050260074088463745 m\n",
            "Joint 5 : θ = -0.006219081600949511 rad  | δy = -0.0003697043389141557 m  | δx =  0.08017958551446855 m\n",
            "Joint 6 : θ = 0.003177356284015537 rad  | δy = -0.0005593279191503605 m  | δx =  0.0800608165917884 m\n"
          ]
        }
      ]
    },
    {
      "cell_type": "code",
      "source": [
        "jvector = [0]*(3*nj+1)\n",
        "print(\"\\nForces on Each Member are (Fy,Fx are shown in global Coordinate system):\")\n",
        "for i in range(1,len(Members)):\n",
        "  print(\"Member \",i,\":\")\n",
        "  Tempdel = []\n",
        "  c1 = Members[i][0]\n",
        "  c2 = Members[i][1]\n",
        "  for j in [c1,c2,c1+nj,c2+nj,c1+2*nj,c2+2*nj]:\n",
        "    Tempdel.append(delmat[j])\n",
        "  Ftemp = np.dot(glomat[i],Tempdel) - EleJG[i]\n",
        "  #Ftemp = list(map(lambda a: round(a,3),Ftemp))\n",
        "  print(\"\\tDisplacement Vector is \",Tempdel)\n",
        "  print(\"\\tMoment Vector is \", Ftemp)\n",
        "  print(f\"\\tJoint {c1} : M = {round(Ftemp[0],3)} kNm | Fy = {round(Ftemp[2],3)} kN | Fx = {round(Ftemp[4],3)} kN\")\n",
        "  print(f\"\\tJoint {c2} : M = {round(Ftemp[1],3)} kNm | Fy = {round(Ftemp[3],3)} kN | Fx = {round(Ftemp[5],3)} kN\")\n",
        "  jvector[c1] +=Ftemp[0]\n",
        "  jvector[nj + c1] +=Ftemp[2]\n",
        "  jvector[2*nj +c1] +=Ftemp[4]\n",
        "  jvector[c2] +=Ftemp[1]\n",
        "  jvector[1*nj +c2] +=Ftemp[3]\n",
        "  jvector[2*nj +c2] +=Ftemp[5]\n"
      ],
      "metadata": {
        "colab": {
          "base_uri": "https://localhost:8080/"
        },
        "id": "Ob9CAsdenguM",
        "outputId": "9a89fda1-4ffd-46a0-c1ec-e35ea4a9c17b"
      },
      "execution_count": null,
      "outputs": [
        {
          "output_type": "stream",
          "name": "stdout",
          "text": [
            "\n",
            "Forces on Each Member are (Fy,Fx are shown in global Coordinate system):\n",
            "Member  1 :\n",
            "\tDisplacement Vector is  [0, -0.006955245834687568, 0, -0.0002345285189414512, 0, 0.05029753898926292]\n",
            "\tMoment Vector is  [ 130.99337035   80.91560034  109.05576131 -109.05576131  -35.31816178\n",
            "   35.31816178]\n",
            "\tJoint 1 : M = 130.993 kNm | Fy = 109.056 kN | Fx = -35.318 kN\n",
            "\tJoint 3 : M = 80.916 kNm | Fy = -109.056 kN | Fx = 35.318 kN\n",
            "Member  2 :\n",
            "\tDisplacement Vector is  [0, -0.0015639585245556973, 0, -0.0003848263197682264, 0, 0.050260074088463745]\n",
            "\tMoment Vector is  [ 169.67576534  158.41526396  178.94423869 -178.94423869  -54.68183822\n",
            "   54.68183822]\n",
            "\tJoint 2 : M = 169.676 kNm | Fy = 178.944 kN | Fx = -54.682 kN\n",
            "\tJoint 4 : M = 158.415 kNm | Fy = -178.944 kN | Fx = 54.682 kN\n",
            "Member  3 :\n",
            "\tDisplacement Vector is  [-0.006955245834687568, -0.006219081600949511, -0.0002345285189414512, -0.0003697043389141557, 0.05029753898926292, 0.08017958551446855]\n",
            "\tMoment Vector is  [-37.35756006 -32.05717757  62.85675629 -62.85675629  11.56912294\n",
            " -11.56912294]\n",
            "\tJoint 3 : M = -37.358 kNm | Fy = 62.857 kN | Fx = 11.569 kN\n",
            "\tJoint 5 : M = -32.057 kNm | Fy = -62.857 kN | Fx = -11.569 kN\n",
            "Member  4 :\n",
            "\tDisplacement Vector is  [-0.0015639585245556973, 0.003177356284015537, -0.0003848263197682264, -0.0005593279191503605, 0.050260074088463745, 0.0800608165917884]\n",
            "\tMoment Vector is  [107.6386355  141.77610212  81.14324371 -81.14324371 -41.56912294\n",
            "  41.56912294]\n",
            "\tJoint 4 : M = 107.639 kNm | Fy = 81.143 kN | Fx = -41.569 kN\n",
            "\tJoint 6 : M = 141.776 kNm | Fy = -81.143 kN | Fx = 41.569 kN\n",
            "Member  5 :\n",
            "\tDisplacement Vector is  [-0.006955245834687568, -0.0015639585245556973, -0.0002345285189414512, -0.0003848263197682264, 0.05029753898926292, 0.050260074088463745]\n",
            "\tMoment Vector is  [ -43.55804029 -266.05389947   46.19900502   97.80099498   13.11271528\n",
            "  -13.11271528]\n",
            "\tJoint 3 : M = -43.558 kNm | Fy = 46.199 kN | Fx = 13.113 kN\n",
            "\tJoint 4 : M = -266.054 kNm | Fy = 97.801 kN | Fx = -13.113 kN\n",
            "Member  6 :\n",
            "\tDisplacement Vector is  [-0.006219081600949511, 0.003177356284015537, -0.0003697043389141557, -0.0005593279191503605, 0.08017958551446855, 0.0800608165917884]\n",
            "\tMoment Vector is  [  32.05717757 -141.77610212   62.85675629   81.14324371   41.56912294\n",
            "  -41.56912294]\n",
            "\tJoint 5 : M = 32.057 kNm | Fy = 62.857 kN | Fx = 41.569 kN\n",
            "\tJoint 6 : M = -141.776 kNm | Fy = 81.143 kN | Fx = -41.569 kN\n"
          ]
        }
      ]
    },
    {
      "cell_type": "code",
      "source": [
        "Kru = np.array(GLmat)\n",
        "Kru = np.delete(Kru,nrst, axis=0)\n",
        "Kru = np.delete(Kru,rst, axis=1)\n",
        "\n",
        "#print(Kru)\n",
        "#kruinv = np.linalg.inv(Kru)\n",
        "Fr = np.dot(Kru,deluu)-Jr\n",
        "print(\"\\nReaction Forces:\")\n",
        "Frar = [{} for _ in range((nj+1))]\n",
        "for i in range(len(Restr)):\n",
        "  if(Restr[i]<=nj):\n",
        "   Frar[Restr[i]]['M'] = Fr[i]\n",
        "  elif Restr[i]<=2*nj:\n",
        "    Frar[Restr[i]-nj]['Fy'] = Fr[i]\n",
        "  else:\n",
        "    Frar[Restr[i]-2*nj]['Fx'] = Fr[i]\n",
        "#print(Frt)\n",
        "\n",
        "for i in range(1,nj+1):\n",
        "  if Frar[i]:\n",
        "    \n",
        "    print(f\"Joint {i} :\",end=\"\\n\")\n",
        "    if 'Fy' in Frar[i]:\n",
        "      print(f\"\\t M = {round(Frar[i]['M'],3)} kNm\",end=\" \")\n",
        "    if 'Fy' in Frar[i] and 'M' in Frar[i]:\n",
        "      print(\"|\",end=\" \")\n",
        "    else:\n",
        "      print(\"\\t\",end=\" \")\n",
        "    if 'Fy' in Frar[i]:\n",
        "      print(f\"Fy = {round(Frar[i]['Fy'],3)} kN\",end=\" \")\n",
        "    if 'Fy' in Frar[i] and 'Fx' in Frar[i]:\n",
        "      print(\"|\",end=\" \")\n",
        "    else:\n",
        "      print(\"\\t\",end=\" \")\n",
        "    if 'Fx' in Frar[i]:\n",
        "      print(f\" Fx = {round(Frar[i]['Fx'],3)} kN\",end=\" \")\n",
        "    print(\"\")"
      ],
      "metadata": {
        "colab": {
          "base_uri": "https://localhost:8080/"
        },
        "id": "IbeiOETins-x",
        "outputId": "75777fbd-f9bf-4b42-b92a-3a26f1a45363"
      },
      "execution_count": null,
      "outputs": [
        {
          "output_type": "stream",
          "name": "stdout",
          "text": [
            "\n",
            "Reaction Forces:\n",
            "Joint 1 :\n",
            "\t M = 130.993 kNm | Fy = 109.056 kN |  Fx = -35.318 kN \n",
            "Joint 2 :\n",
            "\t M = 169.676 kNm | Fy = 178.944 kN |  Fx = -54.682 kN \n"
          ]
        }
      ]
    },
    {
      "cell_type": "code",
      "source": [
        "print(\"\\nJoint Force Vector is :\\n\")\n",
        "print(np.array(list(map(np.around,jvector[1::],[3]*(3*nj)))).reshape(3*nj,1))"
      ],
      "metadata": {
        "colab": {
          "base_uri": "https://localhost:8080/"
        },
        "id": "ru7A5TBAjNQE",
        "outputId": "5507897c-1972-41d6-87a6-003db6a2c3ff"
      },
      "execution_count": null,
      "outputs": [
        {
          "output_type": "stream",
          "name": "stdout",
          "text": [
            "\n",
            "Joint Load Vecor is :\n",
            "\n",
            "[[130.993]\n",
            " [169.676]\n",
            " [  0.   ]\n",
            " [  0.   ]\n",
            " [ -0.   ]\n",
            " [ -0.   ]\n",
            " [109.056]\n",
            " [178.944]\n",
            " [ -0.   ]\n",
            " [ -0.   ]\n",
            " [  0.   ]\n",
            " [  0.   ]\n",
            " [-35.318]\n",
            " [-54.682]\n",
            " [ 60.   ]\n",
            " [  0.   ]\n",
            " [ 30.   ]\n",
            " [ -0.   ]]\n"
          ]
        }
      ]
    }
  ]
}
