{
  "nbformat": 4,
  "nbformat_minor": 0,
  "metadata": {
    "colab": {
      "provenance": [],
      "authorship_tag": "ABX9TyMGYbionOwpXeHQTgfkvlS7",
      "include_colab_link": true
    },
    "kernelspec": {
      "name": "python3",
      "display_name": "Python 3"
    },
    "language_info": {
      "name": "python"
    }
  },
  "cells": [
    {
      "cell_type": "markdown",
      "metadata": {
        "id": "view-in-github",
        "colab_type": "text"
      },
      "source": [
        "<a href=\"https://colab.research.google.com/github/GARYTJ29/matrixStructAnalysis/blob/main/Truss_Matrix.ipynb\" target=\"_parent\"><img src=\"https://colab.research.google.com/assets/colab-badge.svg\" alt=\"Open In Colab\"/></a>"
      ]
    },
    {
      "cell_type": "code",
      "execution_count": null,
      "metadata": {
        "id": "GjgYW10AK_4h"
      },
      "outputs": [],
      "source": [
        "import numpy as np\n",
        "try:\n",
        "  from pandas import DataFrame\n",
        "  f=0\n",
        "except:\n",
        "  f=1\n",
        "def stdmat(L,E=1,A=1):\n",
        "  a = A*E/L\n",
        "  mat = [[0,0,0,0],\n",
        "         [0,0,0,0],\n",
        "         [0,0,a,-a],\n",
        "         [0,0,-a,a]]\n",
        "  return mat\n",
        "def tramat(c1,c2):\n",
        "  dy = c2[1]-c1[1]\n",
        "  dx = c2[0]-c1[0]\n",
        "  if dx != 0:\n",
        "    if dx>0:\n",
        "      t = np.arctan(dy/dx)\n",
        "    else:\n",
        "      t = np.pi + np.arctan(dy/dx)\n",
        "  else:\n",
        "    t = np.pi/2\n",
        "  c = round(np.cos(t),5)\n",
        "  s = round(np.sin(t),5)\n",
        "  mat = [[c,0,-s,0],\n",
        "         [0,c,0,-s],\n",
        "         [s,0,c,0],\n",
        "         [0,s,0,c]]\n",
        "  return mat"
      ]
    },
    {
      "cell_type": "code",
      "source": [
        "#np.linalg.inv()"
      ],
      "metadata": {
        "id": "568aTOn3LXyF"
      },
      "execution_count": null,
      "outputs": []
    },
    {
      "cell_type": "code",
      "source": [
        "joints = [ [],\n",
        "    [0,0],[8,0],[0,6],[8,6],[0,12],[8,12]\n",
        "]\n",
        "Members = [ [],\n",
        "    [1,3],[2,4],[3,5],[4,6],[3,4],[5,6],\n",
        "    #6\n",
        "    [1,4],[2,3],[3,6],[4,5]\n",
        "]\n",
        "JLoad = [0 , \n",
        "         #y\n",
        "         0, 0, 0, 0, -30, 0,\n",
        "         #x\n",
        "         0, 0, -10, 0, 0, -20\n",
        "         ]"
      ],
      "metadata": {
        "id": "YPveEUeqM8JL"
      },
      "execution_count": null,
      "outputs": []
    },
    {
      "cell_type": "code",
      "source": [
        "tr = [[]]\n",
        "locmat = [[]]\n",
        "labelm = [{}]\n",
        "E = 200\n",
        "A = 5000\n",
        "nj = len(joints)-1\n",
        "for i in range(1,len(Members)):\n",
        "  c1 = joints[Members[i][0]]\n",
        "  c2 = joints[Members[i][1]]\n",
        "  dy = c2[1]-c1[1]\n",
        "  dx = c2[0]-c1[0]\n",
        "  #transformation matrix\n",
        "  tr += [tramat(c1,c2)]\n",
        "  l = (dy*dy+dx*dx)**0.5\n",
        "  #local stiffness matrix\n",
        "  locmat += [stdmat(l,E,A)]\n",
        "  #labelling Matrix\n",
        "  m1 = Members[i][0]\n",
        "  m2 = Members[i][1]\n",
        "  labelm += [{m1:0,m2:1,(m1+nj):2,(m2+nj):3}]\n",
        "\n"
      ],
      "metadata": {
        "id": "bmATp1eaO7h6"
      },
      "execution_count": null,
      "outputs": []
    },
    {
      "cell_type": "code",
      "source": [
        "glomat = [[]]\n",
        "for i in range(1,len(Members)):\n",
        "  ttr = np.transpose(tr[i])\n",
        "  mt = np.matmul(ttr,locmat[i])\n",
        "  mt2 = np.matmul(mt,tr[i])\n",
        "  glomat += [mt2]"
      ],
      "metadata": {
        "id": "xXV0E8a3TPR3"
      },
      "execution_count": null,
      "outputs": []
    },
    {
      "cell_type": "code",
      "source": [
        "GLmat = np.zeros((2*nj,2*nj))\n",
        "for i in range(1,len(Members)):\n",
        "  for j in labelm[i]:\n",
        "    for k in labelm[i]:\n",
        "      GLmat[j-1][k-1] += glomat[i][labelm[i][j]][labelm[i][k]]"
      ],
      "metadata": {
        "id": "H4cBMMOFXute"
      },
      "execution_count": null,
      "outputs": []
    },
    {
      "cell_type": "code",
      "source": [
        "Restr = [1,2,7,8]"
      ],
      "metadata": {
        "id": "_3DmBh2MbW3K"
      },
      "execution_count": null,
      "outputs": []
    },
    {
      "cell_type": "code",
      "source": [
        "Restr.sort()\n",
        "rst = list(map(lambda a: a-1 ,Restr))\n",
        "Nrestr = []\n",
        "for i in range(1,2*nj+1):\n",
        "  if i not in Restr:\n",
        "    Nrestr += [i]\n",
        "nrst = list(map(lambda a: a-1 ,Nrestr))"
      ],
      "metadata": {
        "id": "CLlevQh_b3rc"
      },
      "execution_count": null,
      "outputs": []
    },
    {
      "cell_type": "code",
      "source": [
        "Ju = []\n",
        "for i in Nrestr:\n",
        "  Ju.append(JLoad[i])\n",
        "Jr = []\n",
        "for i in Restr:\n",
        "  Jr.append(JLoad[i])"
      ],
      "metadata": {
        "id": "gd-LNZTIerk8"
      },
      "execution_count": null,
      "outputs": []
    },
    {
      "cell_type": "code",
      "source": [
        "Kuu = np.array(GLmat)\n",
        "Kuu = np.delete(Kuu, rst,axis=1)\n",
        "Kuu = np.delete(Kuu, rst,axis=0)\n",
        "kuuinv = np.linalg.inv(Kuu)\n",
        "deluu = np.dot(kuuinv,Ju)"
      ],
      "metadata": {
        "id": "GdnYr6h5byZI"
      },
      "execution_count": null,
      "outputs": []
    },
    {
      "cell_type": "code",
      "source": [
        "delmat = [0]*(2*nj+1)\n",
        "for i in range(len(Nrestr)):\n",
        "  delmat[Nrestr[i]]=deluu[i]"
      ],
      "metadata": {
        "id": "bOVE0UJAvWj5"
      },
      "execution_count": null,
      "outputs": []
    },
    {
      "cell_type": "code",
      "source": [
        "print(\"\\nLocal Stiffness Matrix (Global Coordintes):\")\n",
        "for i in range(1,len(Members)):\n",
        "  print(\"For Member\", i , \":\")\n",
        "  print(np.array(glomat[i]))"
      ],
      "metadata": {
        "colab": {
          "base_uri": "https://localhost:8080/"
        },
        "id": "ljqbAuzy3wzW",
        "outputId": "750774b1-c29e-410d-97ab-4ca7439c9a32"
      },
      "execution_count": null,
      "outputs": [
        {
          "output_type": "stream",
          "name": "stdout",
          "text": [
            "\n",
            "Local Stiffness Matrix (Global Coordintes):\n",
            "For Member 1 :\n",
            "[[ 166666.66666667 -166666.66666667       0.               0.        ]\n",
            " [-166666.66666667  166666.66666667       0.               0.        ]\n",
            " [      0.               0.               0.               0.        ]\n",
            " [      0.               0.               0.               0.        ]]\n",
            "For Member 2 :\n",
            "[[ 166666.66666667 -166666.66666667       0.               0.        ]\n",
            " [-166666.66666667  166666.66666667       0.               0.        ]\n",
            " [      0.               0.               0.               0.        ]\n",
            " [      0.               0.               0.               0.        ]]\n",
            "For Member 3 :\n",
            "[[ 166666.66666667 -166666.66666667       0.               0.        ]\n",
            " [-166666.66666667  166666.66666667       0.               0.        ]\n",
            " [      0.               0.               0.               0.        ]\n",
            " [      0.               0.               0.               0.        ]]\n",
            "For Member 4 :\n",
            "[[ 166666.66666667 -166666.66666667       0.               0.        ]\n",
            " [-166666.66666667  166666.66666667       0.               0.        ]\n",
            " [      0.               0.               0.               0.        ]\n",
            " [      0.               0.               0.               0.        ]]\n",
            "For Member 5 :\n",
            "[[      0.       0.       0.       0.]\n",
            " [      0.       0.       0.       0.]\n",
            " [      0.       0.  125000. -125000.]\n",
            " [      0.       0. -125000.  125000.]]\n",
            "For Member 6 :\n",
            "[[      0.       0.       0.       0.]\n",
            " [      0.       0.       0.       0.]\n",
            " [      0.       0.  125000. -125000.]\n",
            " [      0.       0. -125000.  125000.]]\n",
            "For Member 7 :\n",
            "[[ 36000. -36000.  48000. -48000.]\n",
            " [-36000.  36000. -48000.  48000.]\n",
            " [ 48000. -48000.  64000. -64000.]\n",
            " [-48000.  48000. -64000.  64000.]]\n",
            "For Member 8 :\n",
            "[[ 36000. -36000. -48000.  48000.]\n",
            " [-36000.  36000.  48000. -48000.]\n",
            " [-48000.  48000.  64000. -64000.]\n",
            " [ 48000. -48000. -64000.  64000.]]\n",
            "For Member 9 :\n",
            "[[ 36000. -36000.  48000. -48000.]\n",
            " [-36000.  36000. -48000.  48000.]\n",
            " [ 48000. -48000.  64000. -64000.]\n",
            " [-48000.  48000. -64000.  64000.]]\n",
            "For Member 10 :\n",
            "[[ 36000. -36000. -48000.  48000.]\n",
            " [-36000.  36000.  48000. -48000.]\n",
            " [-48000.  48000.  64000. -64000.]\n",
            " [ 48000. -48000. -64000.  64000.]]\n"
          ]
        }
      ]
    },
    {
      "cell_type": "code",
      "source": [
        "print(\"\\nComplete structure stiffness matrix:\")\n",
        "#import sys\n",
        "if f:\n",
        "  print(np.array(GLmat))\n",
        "else:\n",
        "  print(DataFrame(GLmat).to_string(index=False,header=False))\n"
      ],
      "metadata": {
        "colab": {
          "base_uri": "https://localhost:8080/"
        },
        "id": "vd7DX9G64clh",
        "outputId": "f62fad03-e3f2-4b5a-d3a2-ac8933b6800a"
      },
      "execution_count": null,
      "outputs": [
        {
          "output_type": "stream",
          "name": "stdout",
          "text": [
            "\n",
            "Complete structure stiffness matrix:\n",
            " 202666.666667       0.000000 -166666.666667  -36000.000000       0.000000       0.000000  48000.0      0.0       0.0  -48000.0       0.0       0.0\n",
            "      0.000000  202666.666667  -36000.000000 -166666.666667       0.000000       0.000000      0.0 -48000.0   48000.0       0.0       0.0       0.0\n",
            "-166666.666667  -36000.000000  405333.333333       0.000000 -166666.666667  -36000.000000      0.0  48000.0       0.0       0.0       0.0  -48000.0\n",
            " -36000.000000 -166666.666667       0.000000  405333.333333  -36000.000000 -166666.666667 -48000.0      0.0       0.0       0.0   48000.0       0.0\n",
            "      0.000000       0.000000 -166666.666667  -36000.000000  202666.666667       0.000000      0.0      0.0       0.0   48000.0  -48000.0       0.0\n",
            "      0.000000       0.000000  -36000.000000 -166666.666667       0.000000  202666.666667      0.0      0.0  -48000.0       0.0       0.0   48000.0\n",
            "  48000.000000       0.000000       0.000000  -48000.000000       0.000000       0.000000  64000.0      0.0       0.0  -64000.0       0.0       0.0\n",
            "      0.000000  -48000.000000   48000.000000       0.000000       0.000000       0.000000      0.0  64000.0  -64000.0       0.0       0.0       0.0\n",
            "      0.000000   48000.000000       0.000000       0.000000       0.000000  -48000.000000      0.0 -64000.0  253000.0 -125000.0       0.0  -64000.0\n",
            " -48000.000000       0.000000       0.000000       0.000000   48000.000000       0.000000 -64000.0      0.0 -125000.0  253000.0  -64000.0       0.0\n",
            "      0.000000       0.000000       0.000000   48000.000000  -48000.000000       0.000000      0.0      0.0       0.0  -64000.0  189000.0 -125000.0\n",
            "      0.000000       0.000000  -48000.000000       0.000000       0.000000   48000.000000      0.0      0.0  -64000.0       0.0 -125000.0  189000.0\n"
          ]
        }
      ]
    },
    {
      "cell_type": "code",
      "source": [
        "print(\"\\nUnrestrained stiffness sub-matrix:\")\n",
        "if f:\n",
        "  print(np.array(Kuu))\n",
        "else:\n",
        "  print(DataFrame(Kuu).to_string(index=False,header=False))\n"
      ],
      "metadata": {
        "colab": {
          "base_uri": "https://localhost:8080/"
        },
        "id": "-XixBPih6GIU",
        "outputId": "ba553c74-1187-42c8-f04c-497280089d07"
      },
      "execution_count": null,
      "outputs": [
        {
          "output_type": "stream",
          "name": "stdout",
          "text": [
            "\n",
            "Unrestrained stiffness sub-matrix:\n",
            " 405333.333333       0.000000 -166666.666667  -36000.000000       0.0       0.0       0.0  -48000.0\n",
            "      0.000000  405333.333333  -36000.000000 -166666.666667       0.0       0.0   48000.0       0.0\n",
            "-166666.666667  -36000.000000  202666.666667       0.000000       0.0   48000.0  -48000.0       0.0\n",
            " -36000.000000 -166666.666667       0.000000  202666.666667  -48000.0       0.0       0.0   48000.0\n",
            "      0.000000       0.000000       0.000000  -48000.000000  253000.0 -125000.0       0.0  -64000.0\n",
            "      0.000000       0.000000   48000.000000       0.000000 -125000.0  253000.0  -64000.0       0.0\n",
            "      0.000000   48000.000000  -48000.000000       0.000000       0.0  -64000.0  189000.0 -125000.0\n",
            " -48000.000000       0.000000       0.000000   48000.000000  -64000.0       0.0 -125000.0  189000.0\n"
          ]
        }
      ]
    },
    {
      "cell_type": "code",
      "source": [
        "print(\"\\nInverse of unrestrained stiffness sub-matrix:\")\n",
        "if f:\n",
        "  print(np.array(kuuinv))\n",
        "else:\n",
        "  print(DataFrame(kuuinv).to_string(index=False,header=False))"
      ],
      "metadata": {
        "colab": {
          "base_uri": "https://localhost:8080/"
        },
        "id": "fsftuVMfBuax",
        "outputId": "2425dfa4-8d0e-4071-b671-fa9b116fd451"
      },
      "execution_count": null,
      "outputs": [
        {
          "output_type": "stream",
          "name": "stdout",
          "text": [
            "\n",
            "Inverse of unrestrained stiffness sub-matrix:\n",
            " 5.548140e-06 -4.518595e-07  5.615083e-06 -3.849174e-07  0.000003  0.000002  0.000007  0.000007\n",
            "-4.518595e-07  5.548140e-06 -3.849174e-07  5.615083e-06 -0.000002 -0.000003 -0.000007 -0.000007\n",
            " 5.615083e-06 -3.849174e-07  1.129711e-05 -7.028926e-07  0.000003  0.000002  0.000009  0.000009\n",
            "-3.849174e-07  5.615083e-06 -7.028926e-07  1.129711e-05 -0.000002 -0.000003 -0.000009 -0.000009\n",
            " 2.592149e-06 -1.907851e-06  2.874793e-06 -1.625207e-06  0.000011  0.000008  0.000013  0.000013\n",
            " 1.907851e-06 -2.592149e-06  1.625207e-06 -2.874793e-06  0.000008  0.000011  0.000013  0.000013\n",
            " 6.690496e-06 -6.809504e-06  9.282645e-06 -8.717355e-06  0.000013  0.000013  0.000034  0.000031\n",
            " 6.809504e-06 -6.690496e-06  8.717355e-06 -9.282645e-06  0.000013  0.000013  0.000031  0.000034\n"
          ]
        }
      ]
    },
    {
      "cell_type": "code",
      "source": [
        "print(\"\\nJoint Load Vector is:\")\n",
        "#for x in JLoad:\n",
        "#  print(x)\n",
        "print(np.array(JLoad[1::]).reshape(len(JLoad)-1,1))"
      ],
      "metadata": {
        "colab": {
          "base_uri": "https://localhost:8080/"
        },
        "id": "t4UbcuIRPnoV",
        "outputId": "cc9649cd-9da9-49eb-9ab8-e5daa38036f1"
      },
      "execution_count": null,
      "outputs": [
        {
          "output_type": "stream",
          "name": "stdout",
          "text": [
            "\n",
            "Joint Load Vector is:\n",
            "[[  0]\n",
            " [  0]\n",
            " [  0]\n",
            " [  0]\n",
            " [-30]\n",
            " [  0]\n",
            " [  0]\n",
            " [  0]\n",
            " [-10]\n",
            " [  0]\n",
            " [  0]\n",
            " [-20]]\n"
          ]
        }
      ]
    },
    {
      "cell_type": "code",
      "source": [
        "print(\"\\nUnrestrained displacements are:\")\n",
        "for i in range(3,nj+1):\n",
        "  print(f\"Joint {i} : δy = {delmat[i]} m  | δx =  {delmat[i+nj]} m\")"
      ],
      "metadata": {
        "colab": {
          "base_uri": "https://localhost:8080/"
        },
        "id": "Pm0X2rYKDMM7",
        "outputId": "b7ab4958-2d08-4ea5-9fd5-1b1543ea3eb1"
      },
      "execution_count": null,
      "outputs": [
        {
          "output_type": "stream",
          "name": "stdout",
          "text": [
            "\n",
            "Unrestrained displacements are:\n",
            "Joint 3 : δy = -0.0003305640495867766 m  | δx =  -0.00045821487603305727 m\n",
            "Joint 4 : δy = 0.00016443595041322283 m  | δx =  -0.0003817851239669416 m\n",
            "Joint 5 : δy = -0.0005420082644628096 m  | δx =  -0.0010207995867768582 m\n",
            "Joint 6 : δy = 0.00022299173553718972 m  | δx =  -0.0010767004132231392 m\n"
          ]
        }
      ]
    },
    {
      "cell_type": "code",
      "source": [
        "jvector = [0]*(2*nj+1)\n",
        "print(\"\\nForces on Each Member are (Fy,Fx are shown in global Coordinate system):\")\n",
        "for i in range(1,len(Members)):\n",
        "  print(\"Member \",i,\":\")\n",
        "  Tempdel = []\n",
        "  c1 = Members[i][0]\n",
        "  c2 = Members[i][1]\n",
        "  for j in [c1,c2,c1+nj,c2+nj]:\n",
        "    Tempdel.append(delmat[j])\n",
        "  Ftemp = np.dot(glomat[i],Tempdel)\n",
        "  #Ftemp = list(map(lambda a: round(a,3),Ftemp))\n",
        "  print(\"\\tDisplacement Vector is \",Tempdel)\n",
        "  print(\"\\tForce Vector is \", Ftemp)\n",
        "  print(f\"\\tJoint {c1} : Fy = {round(Ftemp[0],3)} kN | Fx = {round(Ftemp[2],3)} kN\")\n",
        "  print(f\"\\tJoint {c2} : Fy = {round(Ftemp[1],3)} kN | Fx = {round(Ftemp[3],3)} kN\")\n",
        "  jvector[c1] +=Ftemp[0]\n",
        "  jvector[nj + c1] +=Ftemp[2]\n",
        "  jvector[c2] +=Ftemp[1]\n",
        "  jvector[1*nj +c2] +=Ftemp[3]\n"
      ],
      "metadata": {
        "colab": {
          "base_uri": "https://localhost:8080/"
        },
        "id": "NBrcRkAjEySq",
        "outputId": "f08af8f0-7f0b-4159-fd9f-587df0af6422"
      },
      "execution_count": null,
      "outputs": [
        {
          "output_type": "stream",
          "name": "stdout",
          "text": [
            "\n",
            "Forces on Each Member are (Fy,Fx are shown in global Coordinate system):\n",
            "Member  1 :\n",
            "\tDisplacement Vector is  [0, -0.0003305640495867766, 0, -0.00045821487603305727]\n",
            "\tForce Vector is  [ 55.09400826 -55.09400826   0.           0.        ]\n",
            "\tJoint 1 : Fy = 55.094 kN | Fx = 0.0 kN\n",
            "\tJoint 3 : Fy = -55.094 kN | Fx = 0.0 kN\n",
            "Member  2 :\n",
            "\tDisplacement Vector is  [0, 0.00016443595041322283, 0, -0.0003817851239669416]\n",
            "\tForce Vector is  [-27.40599174  27.40599174   0.           0.        ]\n",
            "\tJoint 2 : Fy = -27.406 kN | Fx = 0.0 kN\n",
            "\tJoint 4 : Fy = 27.406 kN | Fx = 0.0 kN\n",
            "Member  3 :\n",
            "\tDisplacement Vector is  [-0.0003305640495867766, -0.0005420082644628096, -0.00045821487603305727, -0.0010207995867768582]\n",
            "\tForce Vector is  [ 35.24070248 -35.24070248   0.           0.        ]\n",
            "\tJoint 3 : Fy = 35.241 kN | Fx = 0.0 kN\n",
            "\tJoint 5 : Fy = -35.241 kN | Fx = 0.0 kN\n",
            "Member  4 :\n",
            "\tDisplacement Vector is  [0.00016443595041322283, 0.00022299173553718972, -0.0003817851239669416, -0.0010767004132231392]\n",
            "\tForce Vector is  [-9.75929752  9.75929752  0.          0.        ]\n",
            "\tJoint 4 : Fy = -9.759 kN | Fx = 0.0 kN\n",
            "\tJoint 6 : Fy = 9.759 kN | Fx = 0.0 kN\n",
            "Member  5 :\n",
            "\tDisplacement Vector is  [-0.0003305640495867766, 0.00016443595041322283, -0.00045821487603305727, -0.0003817851239669416]\n",
            "\tForce Vector is  [ 0.          0.         -9.55371901  9.55371901]\n",
            "\tJoint 3 : Fy = 0.0 kN | Fx = -9.554 kN\n",
            "\tJoint 4 : Fy = 0.0 kN | Fx = 9.554 kN\n",
            "Member  6 :\n",
            "\tDisplacement Vector is  [-0.0005420082644628096, 0.00022299173553718972, -0.0010207995867768582, -0.0010767004132231392]\n",
            "\tForce Vector is  [ 0.          0.          6.98760331 -6.98760331]\n",
            "\tJoint 5 : Fy = 0.0 kN | Fx = 6.988 kN\n",
            "\tJoint 6 : Fy = 0.0 kN | Fx = -6.988 kN\n",
            "Member  7 :\n",
            "\tDisplacement Vector is  [0, 0.00016443595041322283, 0, -0.0003817851239669416]\n",
            "\tForce Vector is  [ 12.40599174 -12.40599174  16.54132231 -16.54132231]\n",
            "\tJoint 1 : Fy = 12.406 kN | Fx = 16.541 kN\n",
            "\tJoint 4 : Fy = -12.406 kN | Fx = -16.541 kN\n",
            "Member  8 :\n",
            "\tDisplacement Vector is  [0, -0.0003305640495867766, 0, -0.00045821487603305727]\n",
            "\tForce Vector is  [-10.09400826  10.09400826  13.45867769 -13.45867769]\n",
            "\tJoint 2 : Fy = -10.094 kN | Fx = 13.459 kN\n",
            "\tJoint 3 : Fy = 10.094 kN | Fx = -13.459 kN\n",
            "Member  9 :\n",
            "\tDisplacement Vector is  [-0.0003305640495867766, 0.00022299173553718972, -0.00045821487603305727, -0.0010767004132231392]\n",
            "\tForce Vector is  [  9.75929752  -9.75929752  13.01239669 -13.01239669]\n",
            "\tJoint 3 : Fy = 9.759 kN | Fx = 13.012 kN\n",
            "\tJoint 6 : Fy = -9.759 kN | Fx = -13.012 kN\n",
            "Member  10 :\n",
            "\tDisplacement Vector is  [0.00016443595041322283, -0.0005420082644628096, -0.0003817851239669416, -0.0010207995867768582]\n",
            "\tForce Vector is  [-5.24070248  5.24070248  6.98760331 -6.98760331]\n",
            "\tJoint 4 : Fy = -5.241 kN | Fx = 6.988 kN\n",
            "\tJoint 5 : Fy = 5.241 kN | Fx = -6.988 kN\n"
          ]
        }
      ]
    },
    {
      "cell_type": "code",
      "source": [
        "Kru = np.array(GLmat)\n",
        "Kru = np.delete(Kru,nrst, axis=0)\n",
        "Kru = np.delete(Kru,rst, axis=1)\n",
        "\n",
        "#print(Kru)\n",
        "#kruinv = np.linalg.inv(Kru)\n",
        "Fr = np.dot(Kru,deluu)-Jr\n",
        "print(\"\\nReaction Forces:\")\n",
        "Frar = [{} for _ in range((nj+1))]\n",
        "for i in range(len(Restr)):\n",
        "  if(Restr[i]<=nj):\n",
        "   Frar[Restr[i]]['Fy'] = Fr[i]\n",
        "  else:\n",
        "    Frar[Restr[i]-nj]['Fx'] = Fr[i]\n",
        "#print(Frt)\n",
        "\n",
        "for i in range(1,nj+1):\n",
        "  if Frar[i]:\n",
        "    print(f\"Joint {i} :\",end=\"\\n\")\n",
        "    if 'Fy' in Frar[i]:\n",
        "      print(f\"\\t Fy = {round(Frar[i]['Fy'],3)} kN\",end=\" \")\n",
        "    if 'Fy' in Frar[i] and 'Fx' in Frar[i]:\n",
        "      print(\"|\",end=\" \")\n",
        "    else:\n",
        "      print(\"\\t\",end=\" \")\n",
        "    if 'Fx' in Frar[i]:\n",
        "      print(f\" Fx = {round(Frar[i]['Fx'],3)} kN\",end=\" \")\n",
        "    print(\"\")\n",
        "  "
      ],
      "metadata": {
        "colab": {
          "base_uri": "https://localhost:8080/"
        },
        "id": "1Q-Q481aWfwA",
        "outputId": "ed40f4e9-1d58-4cbb-ec96-922f05bd51a7"
      },
      "execution_count": null,
      "outputs": [
        {
          "output_type": "stream",
          "name": "stdout",
          "text": [
            "\n",
            "Reaction Forces:\n",
            "Joint 1 :\n",
            "\t Fy = 67.5 kN |  Fx = 16.541 kN \n",
            "Joint 2 :\n",
            "\t Fy = -37.5 kN |  Fx = 13.459 kN \n"
          ]
        }
      ]
    },
    {
      "cell_type": "code",
      "source": [
        "print(\"\\nJoint Forces Vector is :\\n\")\n",
        "print(np.array(list(map(np.around,jvector[1::],[3]*(2*nj)))).reshape(2*nj,1))"
      ],
      "metadata": {
        "colab": {
          "base_uri": "https://localhost:8080/"
        },
        "id": "7oMI-aLqlzos",
        "outputId": "7ba4a495-1e9d-449b-fcaa-f2d724460931"
      },
      "execution_count": null,
      "outputs": [
        {
          "output_type": "stream",
          "name": "stdout",
          "text": [
            "\n",
            "Joint Load Vecor is :\n",
            "\n",
            "[[ 67.5  ]\n",
            " [-37.5  ]\n",
            " [ -0.   ]\n",
            " [ -0.   ]\n",
            " [-30.   ]\n",
            " [  0.   ]\n",
            " [ 16.541]\n",
            " [ 13.459]\n",
            " [-10.   ]\n",
            " [  0.   ]\n",
            " [  0.   ]\n",
            " [-20.   ]]\n"
          ]
        }
      ]
    }
  ]
}